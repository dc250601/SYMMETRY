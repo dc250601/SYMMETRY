{
 "cells": [
  {
   "cell_type": "code",
   "execution_count": 2,
   "id": "f53c8e6b-f7d4-4b17-b8ab-afb276f7265c",
   "metadata": {
    "tags": []
   },
   "outputs": [
    {
     "name": "stderr",
     "output_type": "stream",
     "text": [
      "/global/homes/d/diptarko/miniconda3/envs/work/lib/python3.9/site-packages/tqdm/auto.py:21: TqdmWarning: IProgress not found. Please update jupyter and ipywidgets. See https://ipywidgets.readthedocs.io/en/stable/user_install.html\n",
      "  from .autonotebook import tqdm as notebook_tqdm\n"
     ]
    }
   ],
   "source": [
    "import numpy as np\n",
    "import os\n",
    "import pandas as pd\n",
    "import matplotlib.pyplot as plt\n",
    "import shutil\n",
    "import imutils\n",
    "from sklearn.model_selection import train_test_split\n",
    "from tqdm.auto import tqdm\n",
    "import pickle"
   ]
  },
  {
   "cell_type": "code",
   "execution_count": 3,
   "id": "cd7a753c-3ab9-41b4-9977-9e6b0d00d7e2",
   "metadata": {
    "tags": []
   },
   "outputs": [],
   "source": [
    "data_train = pd.read_csv(\"./assets/DATA/mnist_train.csv\")\n",
    "data_test = pd.read_csv(\"./assets/DATA/mnist_test.csv\")"
   ]
  },
  {
   "cell_type": "markdown",
   "id": "9ce25be7-108e-4ad5-b114-e0d9a3da5937",
   "metadata": {
    "jp-MarkdownHeadingCollapsed": true,
    "tags": []
   },
   "source": [
    "# Vanilla Dataset Creation"
   ]
  },
  {
   "cell_type": "markdown",
   "id": "949ac4c8-99a4-462e-9651-c57f29899534",
   "metadata": {},
   "source": [
    "## Now, we would want our data to be dominated by the SE(2) group. To do this, we would discretise the group elements to multiples of $\\frac{\\pi}{6}$ and produce new samples by rotation of the original samples. Moreover, since 6 and 9 become identical with $\\pi$ rotation we would take only 0, 1, 2, 3, 4, 5, 6, 7, 8 for this analysis"
   ]
  },
  {
   "cell_type": "markdown",
   "id": "f126cbc6-5f72-486e-9211-41810dbcb163",
   "metadata": {},
   "source": [
    "### Removing the sample 9 from our dataset"
   ]
  },
  {
   "cell_type": "code",
   "execution_count": 9,
   "id": "1982ade6-dd69-46dd-9a76-84097ed60654",
   "metadata": {
    "tags": []
   },
   "outputs": [],
   "source": [
    "df_data = pd.concat([data_train,data_test])\n",
    "data_filtered = df_data.sort_values(\"label\").reset_index(drop = True).iloc[:63000,:].sample(frac = 1).reset_index(drop = True)\n",
    "train_dataset, test_dataset = train_test_split(data_filtered, test_size=0.1)"
   ]
  },
  {
   "cell_type": "code",
   "execution_count": 10,
   "id": "d99ed718-8e06-47c9-ba63-d4aef3dcda64",
   "metadata": {
    "tags": []
   },
   "outputs": [],
   "source": [
    "X_train = np.array(train_dataset.iloc[:,1:]).reshape(-1,28,28)\n",
    "Y_train = np.array(train_dataset.iloc[:,0])\n",
    "\n",
    "X_test = np.array(test_dataset.iloc[:,1:]).reshape(-1,28,28)\n",
    "Y_test = np.array(test_dataset.iloc[:,0])"
   ]
  },
  {
   "cell_type": "markdown",
   "id": "47058f8a-f349-4128-88d5-b94773780ab9",
   "metadata": {},
   "source": [
    "### Creating the circular mask\n",
    "#### Just to be sure"
   ]
  },
  {
   "cell_type": "code",
   "execution_count": 11,
   "id": "648538e9-8553-46a7-89a6-5f80a1e9ee9c",
   "metadata": {
    "tags": []
   },
   "outputs": [],
   "source": [
    "def create_circular_mask(h, w, center=None, radius=None):\n",
    "\n",
    "    if center is None: # use the middle of the image\n",
    "        center = (int(w/2), int(h/2))\n",
    "    if radius is None: # use the smallest distance between the center and image walls\n",
    "        radius = min(center[0], center[1], w-center[0], h-center[1])\n",
    "\n",
    "    Y, X = np.ogrid[:h, :w]\n",
    "    dist_from_center = np.sqrt((X - center[0])**2 + (Y-center[1])**2)\n",
    "\n",
    "    mask = dist_from_center <= radius\n",
    "    return mask"
   ]
  },
  {
   "cell_type": "code",
   "execution_count": 12,
   "id": "d2dcd3d6-a1da-48ab-a898-f52edbbe265e",
   "metadata": {
    "tags": []
   },
   "outputs": [],
   "source": [
    "mask = create_circular_mask(28,28,(14,14),14)"
   ]
  },
  {
   "cell_type": "code",
   "execution_count": 13,
   "id": "a55325c6-18a8-4569-afdc-6ed26bd2d6fe",
   "metadata": {
    "tags": []
   },
   "outputs": [],
   "source": [
    "X_test = (X_test*mask).astype(np.uint8)\n",
    "X_train = (X_train*mask).astype(np.uint8)"
   ]
  },
  {
   "cell_type": "markdown",
   "id": "6716f7f3-33d8-4a37-b5bc-72a069ccbac4",
   "metadata": {},
   "source": [
    "### Creating the rotated versions"
   ]
  },
  {
   "cell_type": "code",
   "execution_count": 14,
   "id": "2dbf3fc5-6d8d-4ce5-986e-3b206056b155",
   "metadata": {
    "tags": []
   },
   "outputs": [
    {
     "name": "stderr",
     "output_type": "stream",
     "text": [
      "100%|██████████| 12/12 [00:06<00:00,  1.92it/s]\n",
      "100%|██████████| 12/12 [00:00<00:00, 17.13it/s]\n"
     ]
    }
   ],
   "source": [
    "X_train_augmented = []\n",
    "X_test_augmented = []\n",
    "Y_train_augmented = []\n",
    "Y_test_augmented = []\n",
    "for angle in tqdm(np.arange(0,360,30)):\n",
    "    for i in range(X_train.shape[0]):\n",
    "        X_train_augmented.append(imutils.rotate(X_train[i,:,:],angle))\n",
    "        Y_train_augmented.append((Y_train[i]))\n",
    "\n",
    "for angle in tqdm(np.arange(0,360,30)):\n",
    "    for i in range(X_test.shape[0]):\n",
    "        X_test_augmented.append(imutils.rotate(X_test[i,:,:],angle))\n",
    "        Y_test_augmented.append((Y_test[i]))"
   ]
  },
  {
   "cell_type": "code",
   "execution_count": 15,
   "id": "8f153da3-131d-4576-aaff-52d95a85f375",
   "metadata": {
    "tags": []
   },
   "outputs": [],
   "source": [
    "Dataset = {\n",
    "    \"X_train\":X_train_augmented,\n",
    "    \"Y_train\":Y_train_augmented,\n",
    "    \"X_test\":X_test_augmented,\n",
    "    \"Y_test\":Y_test_augmented}"
   ]
  },
  {
   "cell_type": "code",
   "execution_count": 17,
   "id": "89741814-0bbf-4864-8d31-16fad600a738",
   "metadata": {
    "tags": []
   },
   "outputs": [],
   "source": [
    "with open('./assets/DATA/augmented_dataset.data', 'wb') as f:\n",
    "    pickle.dump(Dataset, f)"
   ]
  },
  {
   "cell_type": "markdown",
   "id": "0515f641-9c2d-439a-bb8f-2759594e1c4d",
   "metadata": {},
   "source": [
    "# Distilled Dataset Creation"
   ]
  },
  {
   "cell_type": "markdown",
   "id": "a806c991-c782-4842-ad38-ced429cb59a8",
   "metadata": {
    "tags": []
   },
   "source": [
    "## For distilling our dataset we will first train an autoencoder and then use the reconstruction loss to decide on the cutoff"
   ]
  },
  {
   "cell_type": "code",
   "execution_count": null,
   "id": "ec2a66cd-7ab0-4f62-871d-b59eb3f0ec6f",
   "metadata": {},
   "outputs": [],
   "source": []
  }
 ],
 "metadata": {
  "kernelspec": {
   "display_name": "work",
   "language": "python",
   "name": "work"
  },
  "language_info": {
   "codemirror_mode": {
    "name": "ipython",
    "version": 3
   },
   "file_extension": ".py",
   "mimetype": "text/x-python",
   "name": "python",
   "nbconvert_exporter": "python",
   "pygments_lexer": "ipython3",
   "version": "3.9.18"
  }
 },
 "nbformat": 4,
 "nbformat_minor": 5
}
