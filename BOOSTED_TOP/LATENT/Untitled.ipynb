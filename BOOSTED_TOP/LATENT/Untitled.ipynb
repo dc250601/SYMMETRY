{
 "cells": [
  {
   "cell_type": "code",
   "execution_count": 17,
   "id": "91d2f61c-7a9b-4a95-9e2c-87d6024b7048",
   "metadata": {
    "tags": []
   },
   "outputs": [
    {
     "name": "stderr",
     "output_type": "stream",
     "text": [
      "100%|██████████| 3/3 [00:43<00:00, 14.50s/it]\n"
     ]
    }
   ],
   "source": [
    "import numpy as np\n",
    "import matplotlib.pyplot as plt\n",
    "import timm\n",
    "import numpy as np\n",
    "import torch.nn as nn\n",
    "import torch\n",
    "from torchvision import datasets, models, transforms\n",
    "import torchvision\n",
    "from torchvision.utils import make_grid\n",
    "from typing import Any\n",
    "from tqdm.auto import tqdm\n",
    "import matplotlib.pyplot as plt\n",
    "import numpy as np\n",
    "from torchvision.utils import make_grid\n",
    "from torch.utils.data import DataLoader\n",
    "import matplotlib.pyplot as plt\n",
    "from sklearn.metrics import accuracy_score\n",
    "from sklearn.metrics import roc_curve\n",
    "from sklearn import metrics\n",
    "import gc\n",
    "import os \n",
    "import torch\n",
    "import torch.nn as nn\n",
    "import sys\n",
    "import pandas as pd\n",
    "import wandb\n",
    "\n",
    "from einops import rearrange\n",
    "from einops.layers.torch import Rearrange\n",
    "import PIL.Image as Image\n",
    "import PIL as pil\n",
    "import time\n",
    "import einops\n",
    "import pandas as pd\n",
    "from collections import OrderedDict\n",
    "\n",
    "import torch\n",
    "import torch.nn as nn\n",
    "from torch.utils.data import Dataset\n",
    "\n",
    "\n",
    "train_feature = []\n",
    "train_meta = []\n",
    "test_feature = []\n",
    "test_meta = []\n",
    "for i in tqdm([0,3,4]):\n",
    "    train_feature.append(np.load(f\"/pscratch/sd/d/diptarko/G23/space/{i}/train_space.npy\"))\n",
    "    test_feature.append(np.load(f\"/pscratch/sd/d/diptarko/G23/space/{i}/test_space.npy\"))\n",
    "    \n",
    "    train_meta.append(pd.read_csv(f\"/pscratch/sd/d/diptarko/G23/space/{i}/train_meta.csv\"))\n",
    "    test_meta.append(pd.read_csv(f\"/pscratch/sd/d/diptarko/G23/space/{i}/test_meta.csv\"))\n",
    "    \n",
    "train_feature = np.concatenate(train_feature, axis = -1)\n",
    "test_feature = np.concatenate(test_feature, axis = -1)\n"
   ]
  },
  {
   "cell_type": "code",
   "execution_count": 18,
   "id": "214344ae-d47d-4e81-84bf-3a84118216e0",
   "metadata": {
    "tags": []
   },
   "outputs": [
    {
     "name": "stdout",
     "output_type": "stream",
     "text": [
      "All done :>\n"
     ]
    }
   ],
   "source": [
    "path = f\"/pscratch/sd/d/diptarko/G23/space/034\"\n",
    "if os.path.isdir(path) is False: os.makedirs(path)\n",
    "np.save(os.path.join(path,\"train.npy\"),train_feature)\n",
    "np.save(os.path.join(path,\"test.npy\"),test_feature)\n",
    "os.system(f\"cp /pscratch/sd/d/diptarko/G23/space/0/train_meta.csv {path}/\")\n",
    "os.system(f\"cp /pscratch/sd/d/diptarko/G23/space/0/test_meta.csv {path}/\")\n",
    "\n",
    "print(\"All done :>\")"
   ]
  },
  {
   "cell_type": "code",
   "execution_count": null,
   "id": "a0933d5e-ae29-42ed-a5c1-38b05e72b57e",
   "metadata": {},
   "outputs": [],
   "source": []
  }
 ],
 "metadata": {
  "kernelspec": {
   "display_name": "work_conda",
   "language": "python",
   "name": "work_conda"
  },
  "language_info": {
   "codemirror_mode": {
    "name": "ipython",
    "version": 3
   },
   "file_extension": ".py",
   "mimetype": "text/x-python",
   "name": "python",
   "nbconvert_exporter": "python",
   "pygments_lexer": "ipython3",
   "version": "3.9.18"
  }
 },
 "nbformat": 4,
 "nbformat_minor": 5
}
